{
 "cells": [
  {
   "cell_type": "markdown",
   "metadata": {},
   "source": [
    "# 🧠 Maaya Daily Sudoku Screenshot Bot"
   ]
  },
  {
   "cell_type": "code",
   "execution_count": null,
   "metadata": {},
   "outputs": [],
   "source": [
    "from selenium import webdriver\n",
    "from selenium.webdriver.chrome.options import Options\n",
    "from selenium.webdriver.common.by import By\n",
    "import time\n",
    "from datetime import date\n",
    "from PIL import Image\n",
    "import os\n",
    "from google.colab import drive\n",
    "drive.mount('/content/drive')\n",
    "\n",
    "# Setup\n",
    "options = Options()\n",
    "options.add_argument('--headless')\n",
    "options.add_argument('--no-sandbox')\n",
    "options.add_argument('--disable-dev-shm-usage')\n",
    "driver = webdriver.Chrome(options=options)\n",
    "\n",
    "# Open Sudoku\n",
    "url = 'https://www.anubhutibymaya.com/pulse#sudoku?auto=start&difficulty=medium'\n",
    "driver.get(url)\n",
    "time.sleep(8)  # wait to fully load\n",
    "\n",
    "# Screenshot\n",
    "today = date.today().strftime('%Y-%m-%d')\n",
    "out_path = f'/content/drive/MyDrive/sudoku_screenshots/sudoku_{today}.png'\n",
    "driver.save_screenshot(out_path)\n",
    "driver.quit()\n",
    "\n",
    "print(f'📸 Screenshot saved to: {out_path}')\n",
    "print(f'\n\n📨 WhatsApp Message to Send:\n')\n",
    "print(f'🌼 Good Morning from Maaya Anubhuti Foundation!')\n",
    "print(f'🧠 Sudoku #{today.replace('-', '')[-4:]}')\n",
    "print(f'\n🖼️ Puzzle Preview: (attached image)')\n",
    "print(f'👉 Play Now: https://bit.ly/maaya-sudoku')\n",
    "print(f'(You’ll be redirected to today’s puzzle)')\n",
    "print(f'\nWith love and care,\n— Team Maaya Anubhuti Foundation')\n",
    "print(f'\n❌ Reply STOP to unsubscribe.')"
   ]
  }
 ],
 "metadata": {
  "colab": {
   "name": "auto_sudoku_colab_final_clean.ipynb",
   "provenance": [],
   "authorship_tag": "generated",
   "include_colab_link": true
  },
  "kernelspec": {
   "display_name": "Python 3",
   "language": "python",
   "name": "python3"
  },
  "language_info": {
   "name": "python"
  }
 },
 "nbformat": 4,
 "nbformat_minor": 0
}
